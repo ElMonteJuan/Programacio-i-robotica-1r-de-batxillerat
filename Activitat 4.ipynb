{
  "nbformat": 4,
  "nbformat_minor": 0,
  "metadata": {
    "colab": {
      "provenance": [],
      "authorship_tag": "ABX9TyNL6m2v3dRYmKzEQ+hr8dFP",
      "include_colab_link": true
    },
    "kernelspec": {
      "name": "python3",
      "display_name": "Python 3"
    },
    "language_info": {
      "name": "python"
    }
  },
  "cells": [
    {
      "cell_type": "markdown",
      "metadata": {
        "id": "view-in-github",
        "colab_type": "text"
      },
      "source": [
        "<a href=\"https://colab.research.google.com/github/ElMonteJuan/Programacio-i-robotica-1r-de-batxillerat/blob/main/Activitat%204.ipynb\" target=\"_parent\"><img src=\"https://colab.research.google.com/assets/colab-badge.svg\" alt=\"Open In Colab\"/></a>"
      ]
    },
    {
      "cell_type": "code",
      "execution_count": null,
      "metadata": {
        "colab": {
          "base_uri": "https://localhost:8080/"
        },
        "id": "QR0Nq6k8EoC1",
        "outputId": "f0659615-df7c-4ed9-ba08-0066058764f7"
      },
      "outputs": [
        {
          "output_type": "stream",
          "name": "stdout",
          "text": [
            "['pa', 'llet', 'peix', 'nutella', 4, 15, 'cervesa']\n",
            "peix\n",
            "['pa', 'llet', 'peix', 4, 15, 'cervesa']\n",
            "cervesa\n",
            "['pa', 'llet', 'peix', 'caco', 4, 15, 'cervesa']\n",
            "7\n"
          ]
        }
      ],
      "source": [
        "from os import remove\n",
        "ingredientes = [\"pa\", \"llet\", \"peix\", \"nutella\", 4, 15, \"cervesa\"]\n",
        "\n",
        "print (str(ingredientes))\n",
        "print (ingredientes[2])\n",
        "del ingredientes[3]\n",
        "print (str(ingredientes))\n",
        "print (ingredientes[5])\n",
        "ingredientes.insert(3, \"caco\")\n",
        "print (str(ingredientes))\n",
        "print (len(ingredientes))"
      ]
    },
    {
      "cell_type": "code",
      "source": [
        "#Crearem una llista que es digui setmana que tingui els dies de dillunas a divenderes  menys el dijous.\n",
        "#Despres afegirem dissabte i diumenge. Depsres posarem el dijous en el seu lloc. Un cop la\n",
        "#setmana completa, afegirem el divendres(3). Li demanarema la variable cuants divendres hi ha a la llista,\n",
        "#despres eliminarem els divendres que sobrin. I depsres farem un text que es vegi el nombre de divendres que hi havia\n",
        "# abans d'esborrar-los.\n",
        "\n",
        "semana = [\"lunes\",  \"martes\", \"miercoles\", \"viernes\"]\n",
        "print (semana)\n",
        "semana.append(\"sabado\")\n",
        "semana.append(\"domingo\")\n",
        "print (semana)\n",
        "semana.insert(4, \"jueves\")\n",
        "print (semana)\n",
        "semana.append(\"viernes\")\n",
        "semana.append(\"viernes\")\n",
        "semana.append(\"viernes\")\n",
        "print (semana)\n",
        "print (\"En total hay \", (semana.count(\"viernes\")), \"viernes.\")\n",
        "del semana[9]\n",
        "del semana[8]\n",
        "del semana[7]\n",
        "print (semana)"
      ],
      "metadata": {
        "colab": {
          "base_uri": "https://localhost:8080/"
        },
        "id": "8kxoS2EtMR52",
        "outputId": "5c653831-f82b-4712-8b68-bf0a7cd663e5"
      },
      "execution_count": null,
      "outputs": [
        {
          "output_type": "stream",
          "name": "stdout",
          "text": [
            "['lunes', 'martes', 'miercoles', 'viernes']\n",
            "['lunes', 'martes', 'miercoles', 'viernes', 'sabado', 'domingo']\n",
            "['lunes', 'martes', 'miercoles', 'viernes', 'jueves', 'sabado', 'domingo']\n",
            "['lunes', 'martes', 'miercoles', 'viernes', 'jueves', 'sabado', 'domingo', 'viernes', 'viernes', 'viernes']\n",
            "En total hay  4 viernes.\n",
            "['lunes', 'martes', 'miercoles', 'viernes', 'jueves', 'sabado', 'domingo']\n"
          ]
        }
      ]
    },
    {
      "cell_type": "code",
      "source": [
        "nose = range(32, 16, -2)\n",
        "for i in nose:\n",
        "  print(i)"
      ],
      "metadata": {
        "colab": {
          "base_uri": "https://localhost:8080/"
        },
        "id": "ePh8C8dMrwX_",
        "outputId": "1778edea-bd7c-4ef2-dccd-6e13ba07527f"
      },
      "execution_count": null,
      "outputs": [
        {
          "output_type": "stream",
          "name": "stdout",
          "text": [
            "32\n",
            "30\n",
            "28\n",
            "26\n",
            "24\n",
            "22\n",
            "20\n",
            "18\n"
          ]
        }
      ]
    },
    {
      "cell_type": "code",
      "source": [
        "lista1 = [7, 5, 28, 12, 11, 0, 4]\n",
        "print (max(lista1))\n",
        "print (\"-------------------------\")\n",
        "print (min(lista1))\n",
        "print (\"\")\n",
        "print (sum(lista1))"
      ],
      "metadata": {
        "colab": {
          "base_uri": "https://localhost:8080/"
        },
        "id": "KpQGNo2fouUv",
        "outputId": "330e10c2-a49d-4baa-9f20-7490e21b1408"
      },
      "execution_count": null,
      "outputs": [
        {
          "output_type": "stream",
          "name": "stdout",
          "text": [
            "28\n",
            "-------------------------\n",
            "0\n",
            "\n",
            "67\n"
          ]
        }
      ]
    },
    {
      "cell_type": "code",
      "source": [
        "abc = \"abcdefghijklmnopqrstuvwxyz\"\n",
        "print (abc)\n",
        "ABC = abc.upper()\n",
        "print (ABC)"
      ],
      "metadata": {
        "colab": {
          "base_uri": "https://localhost:8080/"
        },
        "id": "M8atzTb-Cql6",
        "outputId": "395e7bbd-ec7f-4221-8bac-ee3371b5bf96"
      },
      "execution_count": null,
      "outputs": [
        {
          "output_type": "stream",
          "name": "stdout",
          "text": [
            "abcdefghijklmnopqrstuvwxyz\n",
            "ABCDEFGHIJKLMNOPQRSTUVWXYZ\n"
          ]
        }
      ]
    },
    {
      "cell_type": "code",
      "source": [
        "# FEU EL LLISTAT SEGUENT ROGER LIDIA NEUS MARC ANA ARNAU HECTOR SILVIA PRINTAR LA PERSONA ES DIU: NOM\n",
        "nombres = [\"Roger\", \"Lidia\", \"Neus\", \"Marc\", \"Ana\", \"Arnau\", \"Hector\", \"Silvia\"]\n",
        "contador = 0\n",
        "for name in nombres:\n",
        "  if contador < 8:\n",
        "    print (f\"Es diu: {name}\")\n",
        "    contador += 1\n",
        "  else:\n",
        "    break\n",
        "\n",
        "print (\"\")\n",
        "\n",
        "Contador = 0\n",
        "Nombres = [element.upper() for element in nombres]\n",
        "NOmbres = ''.join(Nombres)\n",
        "print (NOmbres)\n",
        "\n",
        "numa = 0\n",
        "letra = \"A\"\n",
        "contar = NOmbres.count(letra)\n",
        "print (f\"En total hay {contar} A.\")"
      ],
      "metadata": {
        "colab": {
          "base_uri": "https://localhost:8080/"
        },
        "id": "WfQZnoQMG5W1",
        "outputId": "7c35adbf-8476-4552-93e9-2d12f81df950"
      },
      "execution_count": null,
      "outputs": [
        {
          "output_type": "stream",
          "name": "stdout",
          "text": [
            "Es diu: Roger\n",
            "Es diu: Lidia\n",
            "Es diu: Neus\n",
            "Es diu: Marc\n",
            "Es diu: Ana\n",
            "Es diu: Arnau\n",
            "Es diu: Hector\n",
            "Es diu: Silvia\n",
            "\n",
            "ROGERLIDIANEUSMARCANAARNAUHECTORSILVIA\n",
            "En total hay 7 A.\n"
          ]
        }
      ]
    }
  ]
}