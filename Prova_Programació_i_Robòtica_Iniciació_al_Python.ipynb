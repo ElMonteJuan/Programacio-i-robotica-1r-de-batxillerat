{
  "nbformat": 4,
  "nbformat_minor": 0,
  "metadata": {
    "colab": {
      "provenance": [],
      "authorship_tag": "ABX9TyODXQ02X+gey1MI9zPHRReM",
      "include_colab_link": true
    },
    "kernelspec": {
      "name": "python3",
      "display_name": "Python 3"
    },
    "language_info": {
      "name": "python"
    }
  },
  "cells": [
    {
      "cell_type": "markdown",
      "metadata": {
        "id": "view-in-github",
        "colab_type": "text"
      },
      "source": [
        "<a href=\"https://colab.research.google.com/github/ElMonteJuan/Programacio-i-robotica-1r-de-batxillerat/blob/main/prova_programaci_i_rob_tica_iniciaci_al_python.ipynb\" target=\"_parent\"><img src=\"https://colab.research.google.com/assets/colab-badge.svg\" alt=\"Open In Colab\"/></a>"
      ]
    },
    {
      "cell_type": "code",
      "execution_count": null,
      "metadata": {
        "colab": {
          "base_uri": "https://localhost:8080/"
        },
        "id": "PQ3lLipPpTyr",
        "outputId": "55c1fc23-b6ae-422d-b8ff-78257b0a218d"
      },
      "outputs": [
        {
          "output_type": "stream",
          "name": "stdout",
          "text": [
            "En total tenen  156  peces de fruites.\n",
            "En total tenen  192  peces de fruites i verdures.\n"
          ]
        }
      ],
      "source": [
        "#1)\n",
        "Dotzena = 12 #Una dotzena es igual a 12 unitats.\n",
        "Pomes = 5 #Fruita\n",
        "Peres = 8 #Fruita\n",
        "Pebrots = 3 #Verdura\n",
        "\n",
        "Total_Pomes = Dotzena*Pomes #Multipliquem el nombre total de dotzenes(de cada fruta/verdura) per 12(per que una dotzena es equivalent a 12 unitats).\n",
        "Total_Peres = Dotzena*Peres\n",
        "Total_Pebrots = Dotzena*Pebrots\n",
        "\n",
        "Total_Fruites = Total_Pomes+Total_Peres #Suma de pomes i peres per saber-ne la quatitat total de fruites.\n",
        "print (\"En total tenen \", Total_Fruites, \" peces de fruites.\") #Imprimir el resultat de la suma de fruites.\n",
        "\n",
        "#2)\n",
        "Total_de_tot = Total_Pomes+Total_Peres+Total_Pebrots #Sumar totes les fruites i verdures.\n",
        "print (\"En total tenen \", Total_de_tot, \" peces de fruites i verdures.\") #Imprimir la quantitat total de les fruites i verdures.\n"
      ]
    },
    {
      "cell_type": "code",
      "source": [
        "#1)\n",
        "Grup_ESO_A = 30\n",
        "Grup_ESO_B = 30\n",
        "Grup_ESO_C = 30\n",
        "Grup_BTX_A = 25\n",
        "Grup_BTX_B = 25\n",
        "Tot_ESO = Grup_ESO_A+Grup_ESO_B+Grup_ESO_C #Sumar tots el grups per saber quants alumnes son a tot l'ESO.\n",
        "Tot_BTX = Grup_BTX_A+Grup_BTX_B #Sumar els dos grups per saber quants alumnes son a tot al batxillerat.\n",
        "Tots_els_cursos = Tot_ESO+Tot_BTX #Calcular quants alumnes son en total sumant tot l'ESO i el bartillerat.\n",
        "print (\"Han repartit en total \", Tots_els_cursos, \" ordinadors.\") #Imprimir la frase que digui quants ordinadors han repartit en total.\n",
        "\n",
        "#2)\n",
        "Total_reparar = Tots_els_cursos*0.7 #Multiplicar els ordinadors de tots el cursos per 0.7 per que s'han espatllat el 70%.\n",
        "print (\"En total han hagut de reparar \", Total_reparar, \" ordindors espatllats.\") #Imprimir la quantitat total de ordinadors que s'han reparat.\n",
        "\n",
        "#3)\n",
        "Temps_reparació = 20 #Minuts\n",
        "Total_temps_reparació = Total_reparar*Temps_reparació #Multiplicar la quantitat d'oridnadors que s'han de reparar per el temps de mitjana en reparar-ho(20 minuts).\n",
        "Temps_total = Total_temps_reparació/60 #Dividir la quantitat total entre 60 perque 1 hora equival a 60 minuts.\n",
        "print (\"Han trigat en total \", float(Temps_total), \" hores en reparar tots els ordinadors.\") #Imprimir la quantitat de temps trigat per reparar tots  els ordinadors."
      ],
      "metadata": {
        "colab": {
          "base_uri": "https://localhost:8080/"
        },
        "id": "NmOAxB1Gs_i2",
        "outputId": "f501129f-9faa-4797-e147-4e606ea45288"
      },
      "execution_count": null,
      "outputs": [
        {
          "output_type": "stream",
          "name": "stdout",
          "text": [
            "Han repartit en total  140  ordinadors.\n",
            "En total han hagut de reparar  98.0  ordindors espatllats.\n",
            "Han trigat en total  32.666666666666664  hores en reparar tots els ordinadors.\n"
          ]
        }
      ]
    },
    {
      "cell_type": "code",
      "source": [
        "#calcular area cuadrado\n",
        "valor = input(\"Digues un valor per a un costat del cuadrat: \")\n",
        "area = float(valor)**2\n",
        "print (area)"
      ],
      "metadata": {
        "colab": {
          "base_uri": "https://localhost:8080/"
        },
        "id": "gnI8v06aOwiB",
        "outputId": "2bd19549-d741-42b6-af5b-1b5bcc1fa6eb"
      },
      "execution_count": null,
      "outputs": [
        {
          "output_type": "stream",
          "name": "stdout",
          "text": [
            "Digues un valor per a un costat del cuadrat: 8.2\n",
            "67.24\n"
          ]
        }
      ]
    },
    {
      "cell_type": "code",
      "source": [
        "#la bona de veritat esta debaix de aquesta\n",
        "\n",
        "#fes una variable que pregunti el sou d'una persona i se el seu sou es superior els 2000 euros cal que es\n",
        "#mostri un missatge a la pantalla que digui un 15% de impuestos\n",
        "\n",
        "\n",
        "import random\n",
        "\n",
        "dinero = random.randint(100,3000)\n",
        "print (dinero)\n",
        "if int(dinero) > 2000:\n",
        "  print (\"Tens molt de diners! Ara tens que pagar el 15% dels impostos!\")\n",
        "else:\n",
        "  print (\"Ets tan pobre que no falta que paguis res. \")\n",
        "\n",
        "#posar 2 variables amb valors diferents i cal que surti a la pantalla el valor superior\n",
        "variable1 = random.randint(0,100)\n",
        "variable2 = random.randint(0,100)\n",
        "print (\"Variable 1: \", variable1)\n",
        "print (\"Variable 2: \", variable2)\n",
        "if int(variable1) > int(variable2):\n",
        "  print (variable1, \"Es mes gran!\")\n",
        "else:\n",
        "  print (variable2, \"Es mes gran!\")\n",
        "\n",
        "#imagineu que teniu una nomina de 2950 euros cal que feu que pagui l estat un 20% d'impostos\n",
        "# un cop hagiu fet aixo cal que pageu les factures del gas (70euros) i de l'aigua (55euros)\n",
        "# a banda, cal pagar el pis 1000  euros quants diners li quedaran aquesta persona per sobreviure.\n",
        "# si el resultat del import es inferior a 1000 euros cal que printeu compte!\n",
        "# si te mes de 1000, dir has tingut sort\n",
        "nomina = 2950\n",
        "gas = 70\n",
        "agua = 55\n",
        "print (\"Nomina inicial: \", nomina)\n",
        "inomina = nomina*0.2\n",
        "print (inomina, \" es el teu sou actual despres dels imposts.\")\n",
        "gnomina = inomina - gas\n",
        "print (gnomina, \" es el teu sou actual despres de pagar el gas.\")\n",
        "anomina = gnomina - agua\n",
        "print (anomina, \" es el teu sou actual despres de pagar l'aigua.\")\n",
        "if anomina > 1000:\n",
        "  print (\"Uff, has tingut sort\")\n",
        "else:\n",
        "  print (\"Compte! que ets pobre!\")"
      ],
      "metadata": {
        "colab": {
          "base_uri": "https://localhost:8080/"
        },
        "id": "aA8p9v8uPjka",
        "outputId": "a0148292-a277-4654-a0a2-b7494b02d741"
      },
      "execution_count": null,
      "outputs": [
        {
          "output_type": "stream",
          "name": "stdout",
          "text": [
            "2971\n",
            "Tens molt de diners! Ara tens que pagar el 15% dels impostos!\n",
            "Variable 1:  72\n",
            "Variable 2:  96\n",
            "96 Es mes gran!\n",
            "Nomina inicial:  2950\n",
            "590.0  es el teu sou actual despres dels imposts.\n",
            "520.0  es el teu sou actual despres de pagar el gas.\n",
            "465.0  es el teu sou actual despres de pagar l'aigua.\n",
            "Compte! que ets pobre!\n"
          ]
        }
      ]
    },
    {
      "cell_type": "code",
      "source": [
        "#aquesta es la bona verdadera\n",
        "import random\n",
        "\n",
        "print (\"Quin exercici vols veure?\")\n",
        "print (\"[1] Pagar 15% impostos\")\n",
        "print (\"[2] Quin és més gran?\")\n",
        "print (\"[3] Quants diners et queden?\")\n",
        "eleccion = input(\"Insereixi el numero que l'exercici: \")\n",
        "if eleccion == \"1\":\n",
        "  dinero = random.randint(1000,3000)\n",
        "  print (dinero)\n",
        "  if int(dinero) > 2000:\n",
        "   print (\"Tens molt de diners! Ara tens que pagar el 15% dels impostos!\")\n",
        "  else:\n",
        "   print (\"Ets tan pobre que no falta que paguis res. \")\n",
        "elif eleccion == \"2\":\n",
        "  variable1 = random.randint(0,100)\n",
        "  variable2 = random.randint(0,100)\n",
        "  print (\"Variable 1: \", variable1)\n",
        "  print (\"Variable 2: \", variable2)\n",
        "  if int(variable1) > int(variable2):\n",
        "   print (variable1, \"Es mes gran!\")\n",
        "  else:\n",
        "   print (variable2, \"Es mes gran!\")\n",
        "elif eleccion == \"3\":\n",
        "  tipo = input(\"Com ho vols veure? Amb valors normal[1] o aleatori[2]? Insereixi el nombre: \")\n",
        "  if tipo == \"1\":\n",
        "    nomina = 2950\n",
        "    gas = 70\n",
        "    agua = 55\n",
        "    print (\"Nomina inicial: \", nomina)\n",
        "    inomina = nomina*0.2\n",
        "    print (inomina, \" es el teu sou actual despres dels imposts.\")\n",
        "    gnomina = inomina - gas\n",
        "    print (gnomina, \" es el teu sou actual despres de pagar el gas.\")\n",
        "    anomina = gnomina - agua\n",
        "    print (anomina, \" es el teu sou actual despres de pagar l'aigua.\")\n",
        "    if anomina > 1000:\n",
        "     print (\"Uff, has tingut sort\")\n",
        "    else:\n",
        "     print (\"Compte! que ets pobre!\")\n",
        "  elif tipo == \"2\":\n",
        "    nomina = random.randint(2000,5000)\n",
        "    print (\"Nomina actual: \", nomina)\n",
        "    gas = random.randint(50,700)\n",
        "    print (\"Preu del gas: \", gas)\n",
        "    agua = random.randint(50,700)\n",
        "    print (\"Preu d'aigua: \", agua)\n",
        "    impuesto = random.randint(1,5)\n",
        "    primera_opra_impuesto = impuesto/10\n",
        "    segunda_oprea_impuesto = primera_opra_impuesto + 1\n",
        "    tercera_operacion_impuesto = segunda_oprea_impuesto*nomina\n",
        "    resta_impuesto = tercera_operacion_impuesto - nomina\n",
        "    nomina_verdadera = nomina - resta_impuesto\n",
        "    impuestos_imprimir = impuesto*10\n",
        "    print (\"Els impostos son del\", impuestos_imprimir, \"%\")\n",
        "    print (nomina_verdadera, \" es el teu sou actual despres dels imposts.\")\n",
        "    gnomina = nomina_verdadera - gas\n",
        "    print (gnomina, \" es el teu sou actual despres de pagar el gas.\")\n",
        "    anomina = gnomina - agua\n",
        "    print (anomina, \" es el teu sou actual despres de pagar l'aigua.\")\n",
        "    if anomina > (nomina/2):\n",
        "     print (\"Uff, has tingut sort\")\n",
        "    else:\n",
        "     print (\"Compte! que ets pobre!\")\n",
        "else:\n",
        "  print (\"Resposta no valida! Insereix una de les opcions donades anteriorment!\")"
      ],
      "metadata": {
        "colab": {
          "base_uri": "https://localhost:8080/"
        },
        "id": "5g3babQeioSJ",
        "outputId": "06872edf-3d8a-4af6-d336-301808bc9797"
      },
      "execution_count": null,
      "outputs": [
        {
          "output_type": "stream",
          "name": "stdout",
          "text": [
            "Quin exercici vols veure?\n",
            "[1] Pagar 15% impostos\n",
            "[2] Quin és més gran?\n",
            "[3] Quants diners et queden?\n",
            "Insereixi el numero que l'exercici: 3\n",
            "Com ho vols veure? Amb valors normal[1] o aleatori[2]? Insereixi el nombre: 2\n",
            "Nomina actual:  4922\n",
            "Preu del gas:  269\n",
            "Preu d'aigua:  237\n",
            "Els impostos son del 10 %\n",
            "4429.799999999999  es el teu sou actual despres dels imposts.\n",
            "4160.799999999999  es el teu sou actual despres de pagar el gas.\n",
            "3923.7999999999993  es el teu sou actual despres de pagar l'aigua.\n",
            "Uff, has tingut sort\n"
          ]
        }
      ]
    }
  ]
}
