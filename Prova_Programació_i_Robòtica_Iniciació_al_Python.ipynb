{
  "cells": [
    {
      "cell_type": "markdown",
      "metadata": {
        "id": "view-in-github",
        "colab_type": "text"
      },
      "source": [
        "<a href=\"https://colab.research.google.com/github/ElMonteJuan/Programacio-i-robotica-1r-de-batxillerat/blob/main/Prova_Programaci%C3%B3_i_Rob%C3%B2tica_Iniciaci%C3%B3_al_Python.ipynb\" target=\"_parent\"><img src=\"https://colab.research.google.com/assets/colab-badge.svg\" alt=\"Open In Colab\"/></a>"
      ]
    },
    {
      "cell_type": "code",
      "execution_count": null,
      "metadata": {
        "colab": {
          "base_uri": "https://localhost:8080/"
        },
        "id": "PQ3lLipPpTyr",
        "outputId": "55c1fc23-b6ae-422d-b8ff-78257b0a218d"
      },
      "outputs": [
        {
          "name": "stdout",
          "output_type": "stream",
          "text": [
            "En total tenen  156  peces de fruites.\n",
            "En total tenen  192  peces de fruites i verdures.\n"
          ]
        }
      ],
      "source": [
        "#1)\n",
        "Dotzena = 12 #Una dotzena es igual a 12 unitats.\n",
        "Pomes = 5 #Fruita\n",
        "Peres = 8 #Fruita\n",
        "Pebrots = 3 #Verdura\n",
        "\n",
        "Total_Pomes = Dotzena*Pomes #Multipliquem el nombre total de dotzenes(de cada fruta/verdura) per 12(per que una dotzena es equivalent a 12 unitats).\n",
        "Total_Peres = Dotzena*Peres\n",
        "Total_Pebrots = Dotzena*Pebrots\n",
        "\n",
        "Total_Fruites = Total_Pomes+Total_Peres #Suma de pomes i peres per saber-ne la quatitat total de fruites.\n",
        "print (\"En total tenen \", Total_Fruites, \" peces de fruites.\") #Imprimir el resultat de la suma de fruites.\n",
        "\n",
        "#2)\n",
        "Total_de_tot = Total_Pomes+Total_Peres+Total_Pebrots #Sumar totes les fruites i verdures.\n",
        "print (\"En total tenen \", Total_de_tot, \" peces de fruites i verdures.\") #Imprimir la quantitat total de les fruites i verdures.\n"
      ]
    },
    {
      "cell_type": "code",
      "execution_count": null,
      "metadata": {
        "colab": {
          "base_uri": "https://localhost:8080/"
        },
        "id": "NmOAxB1Gs_i2",
        "outputId": "f501129f-9faa-4797-e147-4e606ea45288"
      },
      "outputs": [
        {
          "name": "stdout",
          "output_type": "stream",
          "text": [
            "Han repartit en total  140  ordinadors.\n",
            "En total han hagut de reparar  98.0  ordindors espatllats.\n",
            "Han trigat en total  32.666666666666664  hores en reparar tots els ordinadors.\n"
          ]
        }
      ],
      "source": [
        "#1)\n",
        "Grup_ESO_A = 30\n",
        "Grup_ESO_B = 30\n",
        "Grup_ESO_C = 30\n",
        "Grup_BTX_A = 25\n",
        "Grup_BTX_B = 25\n",
        "Tot_ESO = Grup_ESO_A+Grup_ESO_B+Grup_ESO_C #Sumar tots el grups per saber quants alumnes son a tot l'ESO.\n",
        "Tot_BTX = Grup_BTX_A+Grup_BTX_B #Sumar els dos grups per saber quants alumnes son a tot al batxillerat.\n",
        "Tots_els_cursos = Tot_ESO+Tot_BTX #Calcular quants alumnes son en total sumant tot l'ESO i el bartillerat.\n",
        "print (\"Han repartit en total \", Tots_els_cursos, \" ordinadors.\") #Imprimir la frase que digui quants ordinadors han repartit en total.\n",
        "\n",
        "#2)\n",
        "Total_reparar = Tots_els_cursos*0.7 #Multiplicar els ordinadors de tots el cursos per 0.7 per que s'han espatllat el 70%.\n",
        "print (\"En total han hagut de reparar \", Total_reparar, \" ordindors espatllats.\") #Imprimir la quantitat total de ordinadors que s'han reparat.\n",
        "\n",
        "#3)\n",
        "Temps_reparació = 20 #Minuts\n",
        "Total_temps_reparació = Total_reparar*Temps_reparació #Multiplicar la quantitat d'oridnadors que s'han de reparar per el temps de mitjana en reparar-ho(20 minuts).\n",
        "Temps_total = Total_temps_reparació/60 #Dividir la quantitat total entre 60 perque 1 hora equival a 60 minuts.\n",
        "print (\"Han trigat en total \", float(Temps_total), \" hores en reparar tots els ordinadors.\") #Imprimir la quantitat de temps trigat per reparar tots  els ordinadors."
      ]
    },
    {
      "cell_type": "code",
      "execution_count": null,
      "metadata": {
        "colab": {
          "base_uri": "https://localhost:8080/"
        },
        "id": "gnI8v06aOwiB",
        "outputId": "2bd19549-d741-42b6-af5b-1b5bcc1fa6eb"
      },
      "outputs": [
        {
          "name": "stdout",
          "output_type": "stream",
          "text": [
            "Digues un valor per a un costat del cuadrat: 8.2\n",
            "67.24\n"
          ]
        }
      ],
      "source": [
        "#calcular area cuadrado\n",
        "valor = input(\"Digues un valor per a un costat del cuadrat: \")\n",
        "area = float(valor)**2\n",
        "print (area)"
      ]
    },
    {
      "cell_type": "code",
      "execution_count": null,
      "metadata": {
        "colab": {
          "base_uri": "https://localhost:8080/"
        },
        "id": "aA8p9v8uPjka",
        "outputId": "a0148292-a277-4654-a0a2-b7494b02d741"
      },
      "outputs": [
        {
          "name": "stdout",
          "output_type": "stream",
          "text": [
            "2971\n",
            "Tens molt de diners! Ara tens que pagar el 15% dels impostos!\n",
            "Variable 1:  72\n",
            "Variable 2:  96\n",
            "96 Es mes gran!\n",
            "Nomina inicial:  2950\n",
            "590.0  es el teu sou actual despres dels imposts.\n",
            "520.0  es el teu sou actual despres de pagar el gas.\n",
            "465.0  es el teu sou actual despres de pagar l'aigua.\n",
            "Compte! que ets pobre!\n"
          ]
        }
      ],
      "source": [
        "#la bona de veritat esta debaix de aquesta\n",
        "\n",
        "#fes una variable que pregunti el sou d'una persona i se el seu sou es superior els 2000 euros cal que es\n",
        "#mostri un missatge a la pantalla que digui un 15% de impuestos\n",
        "\n",
        "\n",
        "import random\n",
        "\n",
        "dinero = random.randint(100,3000)\n",
        "print (dinero)\n",
        "if int(dinero) > 2000:\n",
        "  print (\"Tens molt de diners! Ara tens que pagar el 15% dels impostos!\")\n",
        "else:\n",
        "  print (\"Ets tan pobre que no falta que paguis res. \")\n",
        "\n",
        "#posar 2 variables amb valors diferents i cal que surti a la pantalla el valor superior\n",
        "variable1 = random.randint(0,100)\n",
        "variable2 = random.randint(0,100)\n",
        "print (\"Variable 1: \", variable1)\n",
        "print (\"Variable 2: \", variable2)\n",
        "if int(variable1) > int(variable2):\n",
        "  print (variable1, \"Es mes gran!\")\n",
        "else:\n",
        "  print (variable2, \"Es mes gran!\")\n",
        "\n",
        "#imagineu que teniu una nomina de 2950 euros cal que feu que pagui l estat un 20% d'impostos\n",
        "# un cop hagiu fet aixo cal que pageu les factures del gas (70euros) i de l'aigua (55euros)\n",
        "# a banda, cal pagar el pis 1000  euros quants diners li quedaran aquesta persona per sobreviure.\n",
        "# si el resultat del import es inferior a 1000 euros cal que printeu compte!\n",
        "# si te mes de 1000, dir has tingut sort\n",
        "nomina = 2950\n",
        "gas = 70\n",
        "agua = 55\n",
        "print (\"Nomina inicial: \", nomina)\n",
        "inomina = nomina*0.2\n",
        "print (inomina, \" es el teu sou actual despres dels imposts.\")\n",
        "gnomina = inomina - gas\n",
        "print (gnomina, \" es el teu sou actual despres de pagar el gas.\")\n",
        "anomina = gnomina - agua\n",
        "print (anomina, \" es el teu sou actual despres de pagar l'aigua.\")\n",
        "if anomina > 1000:\n",
        "  print (\"Uff, has tingut sort\")\n",
        "else:\n",
        "  print (\"Compte! que ets pobre!\")"
      ]
    },
    {
      "cell_type": "code",
      "execution_count": null,
      "metadata": {
        "colab": {
          "base_uri": "https://localhost:8080/"
        },
        "id": "5g3babQeioSJ",
        "outputId": "06872edf-3d8a-4af6-d336-301808bc9797"
      },
      "outputs": [
        {
          "name": "stdout",
          "output_type": "stream",
          "text": [
            "Quin exercici vols veure?\n",
            "[1] Pagar 15% impostos\n",
            "[2] Quin és més gran?\n",
            "[3] Quants diners et queden?\n",
            "Insereixi el numero que l'exercici: 3\n",
            "Com ho vols veure? Amb valors normal[1] o aleatori[2]? Insereixi el nombre: 2\n",
            "Nomina actual:  4922\n",
            "Preu del gas:  269\n",
            "Preu d'aigua:  237\n",
            "Els impostos son del 10 %\n",
            "4429.799999999999  es el teu sou actual despres dels imposts.\n",
            "4160.799999999999  es el teu sou actual despres de pagar el gas.\n",
            "3923.7999999999993  es el teu sou actual despres de pagar l'aigua.\n",
            "Uff, has tingut sort\n"
          ]
        }
      ],
      "source": [
        "#aquesta es la bona verdadera\n",
        "import random\n",
        "\n",
        "print (\"Quin exercici vols veure?\")\n",
        "print (\"[1] Pagar 15% impostos\")\n",
        "print (\"[2] Quin és més gran?\")\n",
        "print (\"[3] Quants diners et queden?\")\n",
        "eleccion = input(\"Insereixi el numero que l'exercici: \")\n",
        "if eleccion == \"1\":\n",
        "  dinero = random.randint(1000,3000)\n",
        "  print (dinero)\n",
        "  if int(dinero) > 2000:\n",
        "   print (\"Tens molt de diners! Ara tens que pagar el 15% dels impostos!\")\n",
        "  else:\n",
        "   print (\"Ets tan pobre que no falta que paguis res. \")\n",
        "elif eleccion == \"2\":\n",
        "  variable1 = random.randint(0,100)\n",
        "  variable2 = random.randint(0,100)\n",
        "  print (\"Variable 1: \", variable1)\n",
        "  print (\"Variable 2: \", variable2)\n",
        "  if int(variable1) > int(variable2):\n",
        "   print (variable1, \"Es mes gran!\")\n",
        "  else:\n",
        "   print (variable2, \"Es mes gran!\")\n",
        "elif eleccion == \"3\":\n",
        "  tipo = input(\"Com ho vols veure? Amb valors normal[1] o aleatori[2]? Insereixi el nombre: \")\n",
        "  if tipo == \"1\":\n",
        "    nomina = 2950\n",
        "    gas = 70\n",
        "    agua = 55\n",
        "    print (\"Nomina inicial: \", nomina)\n",
        "    inomina = nomina*0.2\n",
        "    print (inomina, \" es el teu sou actual despres dels imposts.\")\n",
        "    gnomina = inomina - gas\n",
        "    print (gnomina, \" es el teu sou actual despres de pagar el gas.\")\n",
        "    anomina = gnomina - agua\n",
        "    print (anomina, \" es el teu sou actual despres de pagar l'aigua.\")\n",
        "    if anomina > 1000:\n",
        "     print (\"Uff, has tingut sort\")\n",
        "    else:\n",
        "     print (\"Compte! que ets pobre!\")\n",
        "  elif tipo == \"2\":\n",
        "    nomina = random.randint(2000,5000)\n",
        "    print (\"Nomina actual: \", nomina)\n",
        "    gas = random.randint(50,700)\n",
        "    print (\"Preu del gas: \", gas)\n",
        "    agua = random.randint(50,700)\n",
        "    print (\"Preu d'aigua: \", agua)\n",
        "    impuesto = random.randint(1,5)\n",
        "    primera_opra_impuesto = impuesto/10\n",
        "    segunda_oprea_impuesto = primera_opra_impuesto + 1\n",
        "    tercera_operacion_impuesto = segunda_oprea_impuesto*nomina\n",
        "    resta_impuesto = tercera_operacion_impuesto - nomina\n",
        "    nomina_verdadera = nomina - resta_impuesto\n",
        "    impuestos_imprimir = impuesto*10\n",
        "    print (\"Els impostos son del\", impuestos_imprimir, \"%\")\n",
        "    print (nomina_verdadera, \" es el teu sou actual despres dels imposts.\")\n",
        "    gnomina = nomina_verdadera - gas\n",
        "    print (gnomina, \" es el teu sou actual despres de pagar el gas.\")\n",
        "    anomina = gnomina - agua\n",
        "    print (anomina, \" es el teu sou actual despres de pagar l'aigua.\")\n",
        "    if anomina > (nomina/2):\n",
        "     print (\"Uff, has tingut sort\")\n",
        "    else:\n",
        "     print (\"Compte! que ets pobre!\")\n",
        "else:\n",
        "  print (\"Resposta no valida! Insereix una de les opcions donades anteriorment!\")"
      ]
    },
    {
      "cell_type": "code",
      "execution_count": null,
      "metadata": {
        "colab": {
          "base_uri": "https://localhost:8080/"
        },
        "id": "Wv6c00a2ul5_",
        "outputId": "ae4c8525-a9d3-4f48-c69a-67055d8a7cca"
      },
      "outputs": [
        {
          "name": "stdout",
          "output_type": "stream",
          "text": [
            "Digues les teves notes sobre 10 per separat en els següents recuadres: \n",
            "Nota: 1\n",
            "Nota: 1\n",
            "Nota: 1\n",
            "La teva nota de mitjana ha estat de  1.0 .\n",
            "Acabes de suspendre el curs! Intenta aprovar-ho com puguis!\n",
            "Digues el valor de la variable 1: 56\n",
            "Digues el valor de la variable 2: 39\n",
            "Digues el valor de la variable 3: 47\n",
            "L'ordre del més gran al més petit és:  56 47 39 .\n"
          ]
        }
      ],
      "source": [
        "#demanar a un alumne ens doni 3 notes que calculi el promig de les notes a lo ens digui si el promg es mes gran o igual\n",
        "# de 7, superi la materia si la nota esta entre 4 i 7 es normal per sota de 4 esta suspes o que intent aprovar\n",
        "print (\"Digues les teves notes sobre 10 per separat en els següents recuadres: \")\n",
        "nota1 = input(\"Nota: \")\n",
        "nota2 = input(\"Nota: \")\n",
        "nota3 = input(\"Nota: \")\n",
        "mitjana = float((float(nota1) + float(nota2) + float(nota3))/3)\n",
        "print (\"La teva nota de mitjana ha estat de \", mitjana,\".\")\n",
        "if mitjana >= 7:\n",
        "  print (\"Enhorabona! Aprobes el curs sense problemes!\")\n",
        "elif mitjana > 4 and mitjana < 7:\n",
        "  print (\"Tens una nota normal.\")\n",
        "elif mitjana <= 4:\n",
        "  print (\"Acabes de suspendre el curs! Intenta aprovar-ho com puguis!\")\n"
      ]
    },
    {
      "cell_type": "code",
      "execution_count": null,
      "metadata": {
        "id": "sbjUC9Ta11QM"
      },
      "outputs": [],
      "source": [
        "#3 numeros es mostri el superior i faci una cadena ens mostri de gran a petit\n",
        "numero1 = input(\"Digues el valor de la variable 1: \")\n",
        "numero2 = input(\"Digues el valor de la variable 2: \")\n",
        "numero3 = input(\"Digues el valor de la variable 3: \")\n",
        "if numero1 > numero2 and numero3:\n",
        "  if numero2 > numero3:\n",
        "    print (\"L'ordre del més gran al més petit és: \", numero1, numero2, numero3, \".\")\n",
        "  else:\n",
        "    print (\"L'ordre del més gran al més petit és: \", numero1, numero3, numero2, \".\")\n",
        "elif numero2 > numero1 and numero3:\n",
        "  if numero1 > numero3:\n",
        "    print (\"L'ordre del més gran al més petit és: \", numero2, numero1, numero3, \".\")\n",
        "  else:\n",
        "    print (\"L'ordre del més gran al més petit és: \", numero2, numero3, numero1, \".\")\n",
        "elif numero3 > numero1 and numero2:\n",
        "  if numero1 > numero2:\n",
        "    print (\"L'ordre del més gran al més petit és: \", numero3, numero1, numero2, \".\")\n",
        "  else:\n",
        "    print (\"L'ordre del més gran al més petit és: \", numero3, numero2, numero1, \".\")"
      ]
    },
    {
      "cell_type": "code",
      "execution_count": null,
      "metadata": {
        "colab": {
          "base_uri": "https://localhost:8080/"
        },
        "id": "Q2Qv4c5c15hv",
        "outputId": "de43a30c-c232-40b8-e4e8-b5dc03cba8f4"
      },
      "outputs": [
        {
          "output_type": "stream",
          "name": "stdout",
          "text": [
            "Ingresa els valors.\n",
            "1. -3465478.880555643\n",
            "2. 344535467i6806-234\n",
            "3. 0.34563478569-67345\n",
            "El valor 1 és decimal i negatiu.\n",
            "El valor 2 és invàlid.\n",
            "El valor 3 és invàlid.\n"
          ]
        }
      ],
      "source": [
        "#ingresar valors si son sencers, positius o negatius o es 0\n",
        "print(\"Ingresa els valors.\")\n",
        "valor1 = input(\"1. \")\n",
        "valor2 = input(\"2. \")\n",
        "valor3 = input(\"3. \")\n",
        "\n",
        "def classificar_valor(valor): #como en scratch, creas tu propio bloque, donde el personalizado es (valor).\n",
        "    try:  #hacer que el codigo intente hacer los siguientes comandos.\n",
        "        num = float(valor) #aqui, intenta convertir el valor propuesto en un float, si lo onsigue, el codigo continua, si no, salta a la linea 21.\n",
        "        if num == 0: #aqui, comienza a identificar el valor de la variable, si es igual a 0, denominara a num como \"neutre (0)\"\n",
        "            return \"neutre (0)\" #lo \"devuelve\"\n",
        "        elif num > 0: #determina si es mayor de zero, si es, es un numero positivo\n",
        "            tipus = \"positiu\"  #si es mayor, la variable tipus sera string \"positiu\"\n",
        "        else: #si no (o sea, que no cumple con num > 0) se le dira directamente negativo\n",
        "            tipus = \"negatiu\"\n",
        "\n",
        "        if \".\" in valor: #si hay un . dentro de la \"palabra\" valor, lo devolvera como la frase \"decimal i {tipus}(la f azul de delante, convierto automativamente a lo que esta dentro de \"\" en strings (pq tipus))\"\n",
        "            return f\"decimal i {tipus}\"\n",
        "        else:\n",
        "            return f\"sencer i {tipus}\"\n",
        "    except ValueError: #si no se puede convertir en float, (pq contiene letras o cosas raras) dira que ese variable sera invalido.\n",
        "        return \"invàlid\"\n",
        "\n",
        "print(f\"El valor 1 és {classificar_valor(valor1)}.\") #aqui, son los bloques de scratch, donde el bloque personalizado el {classificar_valor(valor1)} que lo hemos def,  {classificar_valor(___)} es el bloque, mientras que (valor1) es lo que el try intenrara hacer, converitr en float i etc.\n",
        "print(f\"El valor 2 és {classificar_valor(valor2)}.\")\n",
        "print(f\"El valor 3 és {classificar_valor(valor3)}.\")"
      ]
    },
    {
      "cell_type": "code",
      "source": [
        "import string\n",
        "print (\"Recordi que la contraseña ha de contenir:\")\n",
        "print (\"Minim 6 caracters.\")\n",
        "print (\"Maxim 20 caracters.\")\n",
        "print (\"Inclogui minim una majuscula\")\n",
        "print (\"Inclogui minim una minuscula.\")\n",
        "print (\"Inclogui minim un numero.\")\n",
        "print (\"Inclogui minim un caracter especial.\")\n",
        "print (\"Obligatori que contingui la paraula [ñ].\")\n",
        "\n",
        "contra = input(\"Insereixi la seva contraseña: \")\n",
        "def comprovar(contra):\n",
        "     if any(c in string.ascii_lowercase for c in contra):\n",
        "        if any(c in string.ascii_uppercase for c in contra):\n",
        "          if any(c in string.digits for c in contra):\n",
        "            if any(c in string.punctuation for c in contra):\n",
        "                 if len(contra) > 6 and len(contra) < 20:\n",
        "                   if \"ñ\" in contra:\n",
        "                     return \"conté tots els caracters demanats, contraseña creada correctament!\"\n",
        "                   else:\n",
        "                    return \"no conté la lletra [ñ], revisa-ho de nou!\"\n",
        "                 else:\n",
        "                      return \"no conté el numero de caracters demanats, revisa-ho de nou!\"\n",
        "            else:\n",
        "                  return \"no conté caracters especials, revisa-ho de nou!\"\n",
        "          else:\n",
        "               return \"no conté numeros, revisa-ho de nou!\"\n",
        "        else:\n",
        "           return \"no conté majuscules, revisa-ho de nou!\"\n",
        "     else:\n",
        "        return \"no conté minuscules, revisa-ho de nou!\"\n",
        "print (f\"La teva contraseña {comprovar(contra)}\")"
      ],
      "metadata": {
        "colab": {
          "base_uri": "https://localhost:8080/"
        },
        "id": "RlxbPE05rqrS",
        "outputId": "655f44b8-7056-4354-a5c3-46ecd4b01822"
      },
      "execution_count": 16,
      "outputs": [
        {
          "output_type": "stream",
          "name": "stdout",
          "text": [
            "Recordi que la contraseña ha de contenir:\n",
            "Minim 6 caracters.\n",
            "Maxim 20 caracters.\n",
            "Inclogui minim una majuscula\n",
            "Inclogui minim una minuscula.\n",
            "Inclogui minim un numero.\n",
            "Inclogui minim un caracter especial.\n",
            "Obligatori que contingui la paraula [ñ].\n",
            "Insereixi la seva contraseña: uisdhfuesuydshbsahsahk_.,EFRFE8ñ\n",
            "La teva contraseña no conté el numero de caracters demanats, revisa-ho de nou!\n"
          ]
        }
      ]
    }
  ],
  "metadata": {
    "colab": {
      "provenance": [],
      "authorship_tag": "ABX9TyPbHplPvZvugzcUjb2CIKai",
      "include_colab_link": true
    },
    "kernelspec": {
      "display_name": "Python 3",
      "name": "python3"
    },
    "language_info": {
      "name": "python"
    }
  },
  "nbformat": 4,
  "nbformat_minor": 0
}