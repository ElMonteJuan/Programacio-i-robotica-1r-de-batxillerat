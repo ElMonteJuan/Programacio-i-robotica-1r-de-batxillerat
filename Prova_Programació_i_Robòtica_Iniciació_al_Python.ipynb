{
  "nbformat": 4,
  "nbformat_minor": 0,
  "metadata": {
    "colab": {
      "provenance": [],
      "authorship_tag": "ABX9TyPdty99fEfH5F38IZ/MJaVh",
      "include_colab_link": true
    },
    "kernelspec": {
      "name": "python3",
      "display_name": "Python 3"
    },
    "language_info": {
      "name": "python"
    }
  },
  "cells": [
    {
      "cell_type": "markdown",
      "metadata": {
        "id": "view-in-github",
        "colab_type": "text"
      },
      "source": [
        "<a href=\"https://colab.research.google.com/github/ElMonteJuan/Programacio-i-robotica-1r-de-batxillerat/blob/main/Prova_Programaci%C3%B3_i_Rob%C3%B2tica_Iniciaci%C3%B3_al_Python.ipynb\" target=\"_parent\"><img src=\"https://colab.research.google.com/assets/colab-badge.svg\" alt=\"Open In Colab\"/></a>"
      ]
    },
    {
      "cell_type": "code",
      "execution_count": null,
      "metadata": {
        "colab": {
          "base_uri": "https://localhost:8080/"
        },
        "id": "PQ3lLipPpTyr",
        "outputId": "55c1fc23-b6ae-422d-b8ff-78257b0a218d"
      },
      "outputs": [
        {
          "output_type": "stream",
          "name": "stdout",
          "text": [
            "En total tenen  156  peces de fruites.\n",
            "En total tenen  192  peces de fruites i verdures.\n"
          ]
        }
      ],
      "source": [
        "#1)\n",
        "Dotzena = 12 #Una dotzena es igual a 12 unitats.\n",
        "Pomes = 5 #Fruita\n",
        "Peres = 8 #Fruita\n",
        "Pebrots = 3 #Verdura\n",
        "\n",
        "Total_Pomes = Dotzena*Pomes #Multipliquem el nombre total de dotzenes(de cada fruta/verdura) per 12(per que una dotzena es equivalent a 12 unitats).\n",
        "Total_Peres = Dotzena*Peres\n",
        "Total_Pebrots = Dotzena*Pebrots\n",
        "\n",
        "Total_Fruites = Total_Pomes+Total_Peres #Suma de pomes i peres per saber-ne la quatitat total de fruites.\n",
        "print (\"En total tenen \", Total_Fruites, \" peces de fruites.\") #Imprimir el resultat de la suma de fruites.\n",
        "\n",
        "#2)\n",
        "Total_de_tot = Total_Pomes+Total_Peres+Total_Pebrots #Sumar totes les fruites i verdures.\n",
        "print (\"En total tenen \", Total_de_tot, \" peces de fruites i verdures.\") #Imprimir la quantitat total de les fruites i verdures.\n"
      ]
    },
    {
      "cell_type": "code",
      "source": [
        "#1)\n",
        "Grup_ESO_A = 30\n",
        "Grup_ESO_B = 30\n",
        "Grup_ESO_C = 30\n",
        "Grup_BTX_A = 25\n",
        "Grup_BTX_B = 25\n",
        "Tot_ESO = Grup_ESO_A+Grup_ESO_B+Grup_ESO_C #Sumar tots el grups per saber quants alumnes son a tot l'ESO.\n",
        "Tot_BTX = Grup_BTX_A+Grup_BTX_B #Sumar els dos grups per saber quants alumnes son a tot al batxillerat.\n",
        "Tots_els_cursos = Tot_ESO+Tot_BTX #Calcular quants alumnes son en total sumant tot l'ESO i el bartillerat.\n",
        "print (\"Han repartit en total \", Tots_els_cursos, \" ordinadors.\") #Imprimir la frase que digui quants ordinadors han repartit en total.\n",
        "\n",
        "#2)\n",
        "Total_reparar = Tots_els_cursos*0.7 #Multiplicar els ordinadors de tots el cursos per 0.7 per que s'han espatllat el 70%.\n",
        "print (\"En total han hagut de reparar \", Total_reparar, \" ordindors espatllats.\") #Imprimir la quantitat total de ordinadors que s'han reparat.\n",
        "\n",
        "#3)\n",
        "Temps_reparació = 20 #Minuts\n",
        "Total_temps_reparació = Total_reparar*Temps_reparació #Multiplicar la quantitat d'oridnadors que s'han de reparar per el temps de mitjana en reparar-ho(20 minuts).\n",
        "Temps_total = Total_temps_reparació/60 #Dividir la quantitat total entre 60 perque 1 hora equival a 60 minuts.\n",
        "print (\"Han trigat en total \", float(Temps_total), \" hores en reparar tots els ordinadors.\") #Imprimir la quantitat de temps trigat per reparar tots  els ordinadors."
      ],
      "metadata": {
        "colab": {
          "base_uri": "https://localhost:8080/"
        },
        "id": "NmOAxB1Gs_i2",
        "outputId": "f501129f-9faa-4797-e147-4e606ea45288"
      },
      "execution_count": null,
      "outputs": [
        {
          "output_type": "stream",
          "name": "stdout",
          "text": [
            "Han repartit en total  140  ordinadors.\n",
            "En total han hagut de reparar  98.0  ordindors espatllats.\n",
            "Han trigat en total  32.666666666666664  hores en reparar tots els ordinadors.\n"
          ]
        }
      ]
    }
  ]
}