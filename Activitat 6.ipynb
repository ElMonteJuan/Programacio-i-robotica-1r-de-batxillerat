{
  "nbformat": 4,
  "nbformat_minor": 0,
  "metadata": {
    "colab": {
      "provenance": [],
      "authorship_tag": "ABX9TyOlG+Ou6wWfwWJyGx05uJMW",
      "include_colab_link": true
    },
    "kernelspec": {
      "name": "python3",
      "display_name": "Python 3"
    },
    "language_info": {
      "name": "python"
    }
  },
  "cells": [
    {
      "cell_type": "markdown",
      "metadata": {
        "id": "view-in-github",
        "colab_type": "text"
      },
      "source": [
        "<a href=\"https://colab.research.google.com/github/ElMonteJuan/Programacio-i-robotica-1r-de-batxillerat/blob/main/Activitat%206.ipynb\" target=\"_parent\"><img src=\"https://colab.research.google.com/assets/colab-badge.svg\" alt=\"Open In Colab\"/></a>"
      ]
    },
    {
      "cell_type": "code",
      "source": [
        "import pandas as pd\n",
        "import random\n",
        "from tabulate import tabulate\n",
        "\n",
        "jugador = [\"Mario\", \"Maria\", \"Moria\", \"Morio\"]\n",
        "k = [random.randint(1, 10) for _ in range(4)]\n",
        "\n",
        "a1 = sum(k)\n",
        "a01 = random.randint(1, a1 - 3)\n",
        "a02 = random.randint(1, a1 - a01 - 2)\n",
        "a03 = random.randint(1, a1 - a01 - a02 - 1)\n",
        "a04 = a1 - (a03 + a02 + a01)\n",
        "\n",
        "d = [random.randint(1, 5) for _ in range(4)]\n",
        "a = [a01, a02, a03, a04]\n",
        "\n",
        "stats = {\n",
        "    \"Jugador\": jugador,\n",
        "    \"K/D/A\": [f\"{k[i]}/{d[i]}/{a[i]}\" for i in range(len(jugador))]\n",
        "}\n",
        "tabla = pd.DataFrame(stats)\n",
        "\n",
        "acoplao = input(\"Di tu nombre: \")\n",
        "\n",
        "print(\"Pon tus estats por separado. Que ningún valor supere 10.\")\n",
        "kj = input(\"K: \")\n",
        "dj = input(\"D: \")\n",
        "aj = input(\"A: \")\n",
        "\n",
        "if int(kj) <= 10 and int(dj) <= 10 and int(aj) <= 10:\n",
        "    nueva_fila = {\n",
        "        \"Jugador\": acoplao,\n",
        "        \"K/D/A\": f\"{kj}/{dj}/{aj}\"\n",
        "    }\n",
        "    tabla = pd.concat([tabla, pd.DataFrame([nueva_fila])], ignore_index=True)\n",
        "\n",
        "    print(\"\\nTabla actualizada:\")\n",
        "    print(tabulate(tabla, headers=\"keys\", tablefmt=\"grid\"))\n",
        "else:\n",
        "    print(\"Te he dicho que no pongas ningún valor mayor a 10, ###normal.\")\n"
      ],
      "metadata": {
        "colab": {
          "base_uri": "https://localhost:8080/"
        },
        "id": "2zrqqN3X_faR",
        "outputId": "1559c1f5-17c2-403a-fc6d-194421f3a091"
      },
      "execution_count": null,
      "outputs": [
        {
          "output_type": "stream",
          "name": "stdout",
          "text": [
            "Di tu nombre: Raquel\n",
            "Pon tus estats por separado. Que ningún valor supere 10.\n",
            "K: 4\n",
            "D: 5\n",
            "A: 3\n",
            "\n",
            "Tabla actualizada:\n",
            "+----+-----------+---------+\n",
            "|    | Jugador   | K/D/A   |\n",
            "+====+===========+=========+\n",
            "|  0 | Mario     | 4/2/2   |\n",
            "+----+-----------+---------+\n",
            "|  1 | Maria     | 10/5/20 |\n",
            "+----+-----------+---------+\n",
            "|  2 | Moria     | 9/1/3   |\n",
            "+----+-----------+---------+\n",
            "|  3 | Morio     | 7/1/5   |\n",
            "+----+-----------+---------+\n",
            "|  4 | Raquel    | 4/5/3   |\n",
            "+----+-----------+---------+\n"
          ]
        }
      ]
    }
  ]
}