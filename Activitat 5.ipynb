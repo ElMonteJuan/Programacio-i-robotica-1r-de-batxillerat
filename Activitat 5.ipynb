{
  "nbformat": 4,
  "nbformat_minor": 0,
  "metadata": {
    "colab": {
      "provenance": [],
      "authorship_tag": "ABX9TyMcY6HI055Esvvl/579o1ev",
      "include_colab_link": true
    },
    "kernelspec": {
      "name": "python3",
      "display_name": "Python 3"
    },
    "language_info": {
      "name": "python"
    }
  },
  "cells": [
    {
      "cell_type": "markdown",
      "metadata": {
        "id": "view-in-github",
        "colab_type": "text"
      },
      "source": [
        "<a href=\"https://colab.research.google.com/github/ElMonteJuan/Programacio-i-robotica-1r-de-batxillerat/blob/main/Activitat%205.ipynb\" target=\"_parent\"><img src=\"https://colab.research.google.com/assets/colab-badge.svg\" alt=\"Open In Colab\"/></a>"
      ]
    },
    {
      "cell_type": "code",
      "execution_count": null,
      "metadata": {
        "colab": {
          "base_uri": "https://localhost:8080/",
          "height": 176
        },
        "id": "UGV6p2QaMlTK",
        "outputId": "0048c72f-e818-48f8-b0fd-d0effbb06fde"
      },
      "outputs": [
        {
          "output_type": "error",
          "ename": "NameError",
          "evalue": "name 'average' is not defined",
          "traceback": [
            "\u001b[0;31m---------------------------------------------------------------------------\u001b[0m",
            "\u001b[0;31mNameError\u001b[0m                                 Traceback (most recent call last)",
            "\u001b[0;32m<ipython-input-20-af0d19bbbbf8>\u001b[0m in \u001b[0;36m<cell line: 28>\u001b[0;34m()\u001b[0m\n\u001b[1;32m     26\u001b[0m \u001b[0;34m\u001b[0m\u001b[0m\n\u001b[1;32m     27\u001b[0m \u001b[0;31m#buscar valor promig se serie\u001b[0m\u001b[0;34m\u001b[0m\u001b[0;34m\u001b[0m\u001b[0m\n\u001b[0;32m---> 28\u001b[0;31m \u001b[0mprint\u001b[0m\u001b[0;34m(\u001b[0m\u001b[0;34m(\u001b[0m\u001b[0maverage\u001b[0m\u001b[0;34m(\u001b[0m\u001b[0mserie\u001b[0m\u001b[0;34m)\u001b[0m\u001b[0;34m)\u001b[0m\u001b[0;34m)\u001b[0m\u001b[0;34m\u001b[0m\u001b[0;34m\u001b[0m\u001b[0m\n\u001b[0m",
            "\u001b[0;31mNameError\u001b[0m: name 'average' is not defined"
          ]
        }
      ],
      "source": [
        "# el pandas serveix per treballar amb dades tenen tres tipus d'estructures.\n",
        "# - series: estructures d'una dimensió que porten el seu index associat a les segones.\n",
        "# - data frames: estructura de 2 dimensions\n",
        "# - panells: 3 dimensions\n",
        "\n",
        "!pip install pandas\n",
        "!python --version\n",
        "!apt-get install python3.12\n",
        "!python --version\n",
        "\n",
        "import pandas as pd\n",
        "\n",
        "# setmana = [\"dilluns\", \"dimarts\", \"dimecres\", \"dijous\", \"divendres\", \"dissabte\", \"diumenge\"]\n",
        "# print(pd.Series(setmana)[0])\n",
        "\n",
        "\n",
        "# fer una serie numerica amb 12 58 63 47 81 35\n",
        "# mirar llargada serie numerica\n",
        "# sumar tots valors numerics amb sum\n",
        "serie = [12, 58, 63, 47, 81, 35]\n",
        "# serie = pd.Series([12, 58, 63, 47, 81, 35])\n",
        "\n",
        "# print(pd.Series(serie))\n",
        "# print(serie.size)\n",
        "# print(sum(serie))\n",
        "\n",
        "#buscar valor promig se serie\n",
        "print()"
      ]
    },
    {
      "cell_type": "code",
      "source": [
        "# !pip install pandas\n",
        "# !python --version\n",
        "# !apt-get install python3.12\n",
        "# !python --version\n",
        "# !pip install tabulate\n",
        "\n",
        "import pandas as pd\n",
        "from tabulate import tabulate\n",
        "\n",
        "# persona altura min\n",
        "# persona altura max\n",
        "# promig edats i arrodonir a 2 decimals\n",
        "# afegir clumnaa al dataframe que sigui \"institut\" resposta mvm\n",
        "#\"\"\"\"\"\"\"\"\"\"\"\"\"\" edat 2 = edat + 2     ex pedro 25 -> 27\n",
        "nombres = [\"Jose\", \"Pedro\", \"Martin\", \"Antonio\", \"Eduardo\"]\n",
        "edades = [19, 52, 5, 27, 31]\n",
        "altura = [1.78, 1.88, 1.2, 1.6, 2.1]\n",
        "\n",
        "data = {\n",
        "    \"nombre\": nombres,\n",
        "    \"edad\": edades,\n",
        "    \"altura\": altura\n",
        "}\n",
        "df = pd.DataFrame(data)\n",
        "\n",
        "min = df[\"altura\"].min()\n",
        "max = df[\"altura\"].max()\n",
        "\n",
        "print (min)\n",
        "print (max)\n",
        "\n",
        "promedio = df[\"edad\"].mean()\n",
        "\n",
        "df[\"Institut\"] = \"MVM\"\n",
        "\n",
        "df[\"edad_2\"] = df[\"edad\"] + 2\n",
        "\n",
        "print(\"Alçada mínima:\", min)\n",
        "print(\"Alçada màxima:\", max)\n",
        "print(f\"Promig d'edats: {promedio:.2f}\")\n",
        "\n",
        "print(tabulate(df))\n"
      ],
      "metadata": {
        "colab": {
          "base_uri": "https://localhost:8080/"
        },
        "id": "QlR363TeSx52",
        "outputId": "9d4f1243-06ed-45e5-dc89-fff9e30208c5"
      },
      "execution_count": null,
      "outputs": [
        {
          "output_type": "stream",
          "name": "stdout",
          "text": [
            "1.2\n",
            "2.1\n",
            "Alçada mínima: 1.2\n",
            "Alçada màxima: 2.1\n",
            "Promig d'edats: 26.80\n",
            "-  -------  --  ----  ---  --\n",
            "0  Jose     19  1.78  MVM  21\n",
            "1  Pedro    52  1.88  MVM  54\n",
            "2  Martin    5  1.2   MVM   7\n",
            "3  Antonio  27  1.6   MVM  29\n",
            "4  Eduardo  31  2.1   MVM  33\n",
            "-  -------  --  ----  ---  --\n"
          ]
        }
      ]
    },
    {
      "cell_type": "code",
      "source": [
        "# !pip install matplotlib\n",
        "import pandas as pd\n",
        "import matplotlib.pyplot as plt\n",
        "\n",
        "nombres = [\"Jose\", \"Pedro\", \"Martin\", \"Antonio\", \"Eduardo\"]\n",
        "edades = [19, 52, 5, 28, 31]\n",
        "altura = [1.78, 1.88, 1.2, 1.6, 2.1]\n",
        "\n",
        "data = {\"Nom\": nombres, \"Edat\": edades, \"Altura\": altura}\n",
        "df = pd.DataFrame(data)\n",
        "\n",
        "df[\"Institut\"] = \"mvm\"\n",
        "df[\"Edat_2\"] = df[\"Edat\"] + 2\n",
        "\n",
        "fig, ax = plt.subplots(figsize=(6, 3))\n",
        "ax.axis('tight')\n",
        "ax.axis('off')\n",
        "table = ax.table(cellText=df.values, colLabels=df.columns, loc='center', cellLoc='center')\n",
        "\n",
        "plt.savefig(\"dataframe_taula.png\", dpi=300, bbox_inches='tight')\n",
        "\n",
        "plt.show()\n"
      ],
      "metadata": {
        "colab": {
          "base_uri": "https://localhost:8080/",
          "height": 268
        },
        "id": "aKtnuyzIY8WV",
        "outputId": "cae9196f-92cd-4d95-c827-0be39a6dc5a5"
      },
      "execution_count": null,
      "outputs": [
        {
          "output_type": "display_data",
          "data": {
            "text/plain": [
              "<Figure size 600x300 with 1 Axes>"
            ],
            "image/png": "[encoded data removed]"
          },
          "metadata": {}
        }
      ]
    }
  ]
}