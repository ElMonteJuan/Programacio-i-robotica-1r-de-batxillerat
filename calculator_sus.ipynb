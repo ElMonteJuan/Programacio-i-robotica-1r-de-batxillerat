{
  "cells": [
    {
      "cell_type": "markdown",
      "metadata": {
        "id": "view-in-github",
        "colab_type": "text"
      },
      "source": [
        "<a href=\"https://colab.research.google.com/github/ElMonteJuan/Programacio-i-robotica-1r-de-batxillerat/blob/main/calculator_sus.ipynb\" target=\"_parent\"><img src=\"https://colab.research.google.com/assets/colab-badge.svg\" alt=\"Open In Colab\"/></a>"
      ]
    },
    {
      "cell_type": "code",
      "execution_count": null,
      "metadata": {
        "id": "--RSOiT62bRH",
        "colab": {
          "base_uri": "https://localhost:8080/"
        },
        "outputId": "e4e145b3-7e21-419c-fe7d-57b5fc7056e9"
      },
      "outputs": [
        {
          "output_type": "stream",
          "name": "stdout",
          "text": [
            "sumar       [1]\n",
            "restar      [2]\n",
            "multiplicar [3]\n",
            "dividir     [4]\n",
            "Introduixi el número assignat segons el tipus d'operació que vulgui fer: 4\n",
            "Digues el número 1: 184\n",
            "Digues el número 2: 10\n",
            "El resultat es 18.4\n"
          ]
        }
      ],
      "source": [
        "print (\"sumar       [1]\")\n",
        "print (\"restar      [2]\")\n",
        "print (\"multiplicar [3]\")\n",
        "print (\"dividir     [4]\")\n",
        "pregunta = input(\"Introduixi el número assignat segons el tipus d'operació que vulgui fer: \")\n",
        "if pregunta == \"1\":\n",
        "  numero_1 = float(input(\"Digues el número 1: \"))\n",
        "  numero_2 = float(input(\"Digues el número 2: \"))\n",
        "  respuesta = numero_1 + numero_2\n",
        "  print (str(respuesta))\n",
        "elif pregunta == \"2\":\n",
        "  numero_1 = float(input(\"Digues el número 1: \"))\n",
        "  numero_2 = float(input(\"Digues el número 2: \"))\n",
        "  respuesta = numero_1 - numero_2\n",
        "  print (str(respuesta))\n",
        "elif pregunta == \"3\":\n",
        "  numero_1 = float(input(\"Digues el número 1: \"))\n",
        "  numero_2 = float(input(\"Digues el número 2: \"))\n",
        "  respuesta = numero_1 * numero_2\n",
        "  print (str(respuesta))\n",
        "elif pregunta == \"4\":\n",
        "  numero_1 = float(input(\"Digues el número 1: \"))\n",
        "  numero_2 = float(input(\"Digues el número 2: \"))\n",
        "  respuesta = numero_1 / numero_2\n",
        "  print (\"El resultat es \" + str(respuesta))"
      ]
    },
    {
      "cell_type": "code",
      "source": [
        "print (\"  ___\")\n",
        "print (\"|_|__\")\n",
        "print (\"__| |\")"
      ],
      "metadata": {
        "colab": {
          "base_uri": "https://localhost:8080/"
        },
        "id": "R8tR2Wro4Ere",
        "outputId": "6fbe9b59-a2d4-447a-dd18-fd4794704887"
      },
      "execution_count": null,
      "outputs": [
        {
          "output_type": "stream",
          "name": "stdout",
          "text": [
            "  ___\n",
            "|_|__\n",
            "__| |\n"
          ]
        }
      ]
    }
  ],
  "metadata": {
    "colab": {
      "provenance": [],
      "authorship_tag": "ABX9TyPoVBjHO/lBlkGO0BhPt8hQ",
      "include_colab_link": true
    },
    "kernelspec": {
      "display_name": "Python 3",
      "name": "python3"
    },
    "language_info": {
      "name": "python"
    }
  },
  "nbformat": 4,
  "nbformat_minor": 0
}