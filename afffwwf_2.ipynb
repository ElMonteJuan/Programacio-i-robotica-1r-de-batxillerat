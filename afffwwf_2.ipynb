{
  "nbformat": 4,
  "nbformat_minor": 0,
  "metadata": {
    "colab": {
      "provenance": [],
      "authorship_tag": "ABX9TyMvujSmCkcHyUN/EtpZ3xUE",
      "include_colab_link": true
    },
    "kernelspec": {
      "name": "python3",
      "display_name": "Python 3"
    },
    "language_info": {
      "name": "python"
    }
  },
  "cells": [
    {
      "cell_type": "markdown",
      "metadata": {
        "id": "view-in-github",
        "colab_type": "text"
      },
      "source": [
        "<a href=\"https://colab.research.google.com/github/ElMonteJuan/Programacio-i-robotica-1r-de-batxillerat/blob/main/afffwwf_2.ipynb\" target=\"_parent\"><img src=\"https://colab.research.google.com/assets/colab-badge.svg\" alt=\"Open In Colab\"/></a>"
      ]
    },
    {
      "cell_type": "code",
      "execution_count": null,
      "metadata": {
        "colab": {
          "base_uri": "https://localhost:8080/"
        },
        "id": "Hw_3CAubHZf2",
        "outputId": "8eb03ba5-a097-4de5-a1d0-0b6b954ebc44"
      },
      "outputs": [
        {
          "output_type": "stream",
          "name": "stdout",
          "text": [
            "Hola mon!\n",
            "Hola mon!\n",
            "Com et dius?zehui\n",
            "Hola zehui !\n"
          ]
        }
      ],
      "source": [
        "print(\"Hola mon!\")\n",
        "\n",
        "saludo=\"Hola mon!\"\n",
        "print(saludo)\n"
      ]
    },
    {
      "cell_type": "code",
      "source": [
        "# escriu un programa que pregunti el nom de l'usuari i despres quan introdueixi el nom a la resposta s'ens ha d'imprimir una resposta que digui hola i la resposta del nom\n",
        "\n",
        "ombre = input(\"Com et dius? \")\n",
        "print (\"Hola \"+ nombre + \"!\")"
      ],
      "metadata": {
        "colab": {
          "base_uri": "https://localhost:8080/"
        },
        "id": "MfasEFkrJfAl",
        "outputId": "3018c0a3-2fe3-4e23-e7aa-72b657e6921b"
      },
      "execution_count": null,
      "outputs": [
        {
          "output_type": "stream",
          "name": "stdout",
          "text": [
            "Com et dius? zehui\n",
            "Hola zehui!\n"
          ]
        }
      ]
    },
    {
      "cell_type": "code",
      "source": [
        "# escriure programama ppregunti usuari hores que treballa i preu per hora\n",
        "nombre = input(\"Hola, com et dius? \")\n",
        "print (\"Bon dia \" + nombre + \"!\")\n",
        "hora = float(input(\"Quantes hores treballes? \"))\n",
        "preu = float(input(\"I quant cobres per hora? \"))\n",
        "total = hora * preu\n",
        "print (\"En total cobres \" + str(total) + \" euros!\")"
      ],
      "metadata": {
        "colab": {
          "base_uri": "https://localhost:8080/"
        },
        "id": "N5YZj3dtN_Wr",
        "outputId": "3e9a2535-efc6-4bff-af62-a5251c455a71"
      },
      "execution_count": null,
      "outputs": [
        {
          "output_type": "stream",
          "name": "stdout",
          "text": [
            "Hola, com et dius? DaShaBi\n",
            "Bon dia DaShaBi!\n",
            "Quantes hores treballes? 18\n",
            "I quant cobres per hora? 1063.6\n",
            "En total cobres 19144.8 euros!\n"
          ]
        }
      ]
    }
  ]
}