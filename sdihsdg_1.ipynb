{
  "nbformat": 4,
  "nbformat_minor": 0,
  "metadata": {
    "colab": {
      "provenance": [],
      "authorship_tag": "ABX9TyMlOam6cu0Qzr2XJYVoybQX",
      "include_colab_link": true
    },
    "kernelspec": {
      "name": "python3",
      "display_name": "Python 3"
    },
    "language_info": {
      "name": "python"
    }
  },
  "cells": [
    {
      "cell_type": "markdown",
      "metadata": {
        "id": "view-in-github",
        "colab_type": "text"
      },
      "source": [
        "<a href=\"https://colab.research.google.com/github/ElMonteJuan/Programacio-i-robotica-1r-de-batxillerat/blob/main/sdihsdg_1.ipynb\" target=\"_parent\"><img src=\"https://colab.research.google.com/assets/colab-badge.svg\" alt=\"Open In Colab\"/></a>"
      ]
    },
    {
      "cell_type": "code",
      "execution_count": 2,
      "metadata": {
        "colab": {
          "base_uri": "https://localhost:8080/"
        },
        "id": "rscrAObMjU8C",
        "outputId": "0b3f45e4-fc2a-4dc4-8a5d-94e3b790fad9"
      },
      "outputs": [
        {
          "output_type": "stream",
          "name": "stdout",
          "text": [
            "6240\n"
          ]
        }
      ],
      "source": [
        "cuines=48\n",
        "precio=93\n",
        "transporte=37\n",
        "total=(cuines*precio)+(cuines*transporte)\n",
        "print (total)"
      ]
    },
    {
      "cell_type": "code",
      "source": [
        "guardiola1=120\n",
        "guardiola2=215\n",
        "guardiola3=163\n",
        "guardiola_total=guardiola1+guardiola2+guardiola3\n",
        "dinero_persona=guardiola_total/6\n",
        "print(\"cada persona tiene \"+(str(dinero_persona))+\" euros\")"
      ],
      "metadata": {
        "colab": {
          "base_uri": "https://localhost:8080/"
        },
        "id": "f-RurS7YlGcK",
        "outputId": "e8561b0c-a371-4165-ecb6-c2adab2733d4"
      },
      "execution_count": null,
      "outputs": [
        {
          "output_type": "stream",
          "name": "stdout",
          "text": [
            "cada persona tiene 83.0 euros\n"
          ]
        }
      ]
    },
    {
      "cell_type": "code",
      "source": [
        "castanyera=250\n",
        "dotzena=12\n",
        "cremades=9\n",
        "vender=castanyera-((dotzena*17)+cremades)\n",
        "print(vender)"
      ],
      "metadata": {
        "colab": {
          "base_uri": "https://localhost:8080/"
        },
        "id": "UFerTX7Fosh1",
        "outputId": "b57c4510-812f-421d-ca38-edcdeff3ccda"
      },
      "execution_count": null,
      "outputs": [
        {
          "output_type": "stream",
          "name": "stdout",
          "text": [
            "37\n"
          ]
        }
      ]
    },
    {
      "cell_type": "code",
      "source": [
        "any=2850\n",
        "guardar=700\n",
        "vacas=(any-guardar)\n",
        "vaca=vacas/5\n",
        "print (vaca)"
      ],
      "metadata": {
        "id": "l9UfNAQ9pKq7",
        "colab": {
          "base_uri": "https://localhost:8080/"
        },
        "outputId": "f4adb724-8eca-4657-8ec0-86fba67e2050"
      },
      "execution_count": null,
      "outputs": [
        {
          "output_type": "stream",
          "name": "stdout",
          "text": [
            "430.0\n"
          ]
        }
      ]
    },
    {
      "cell_type": "code",
      "source": [
        "llibreta=275\n",
        "billete=10\n",
        "moneda=2\n",
        "total=llibreta+(2*billete)+(3*moneda)\n",
        "print (total)"
      ],
      "metadata": {
        "colab": {
          "base_uri": "https://localhost:8080/"
        },
        "id": "JQcNOFQ93IYC",
        "outputId": "e04e3e83-b331-423f-c089-1749fb07a535"
      },
      "execution_count": null,
      "outputs": [
        {
          "output_type": "stream",
          "name": "stdout",
          "text": [
            "301\n"
          ]
        }
      ]
    },
    {
      "cell_type": "code",
      "source": [
        "falta=26625\n",
        "casa=98370\n",
        "tiene=casa-falta\n",
        "print(tiene)"
      ],
      "metadata": {
        "colab": {
          "base_uri": "https://localhost:8080/"
        },
        "id": "NUZHfXFe3teD",
        "outputId": "fc1c7e6a-2e40-483b-d2b4-fc1379af3929"
      },
      "execution_count": null,
      "outputs": [
        {
          "output_type": "stream",
          "name": "stdout",
          "text": [
            "71745\n"
          ]
        }
      ]
    },
    {
      "cell_type": "code",
      "source": [
        "revistas=432\n",
        "boli=(revistas/2)/5\n",
        "print(boli)"
      ],
      "metadata": {
        "colab": {
          "base_uri": "https://localhost:8080/"
        },
        "id": "Rudo6kJN4Fs6",
        "outputId": "b56c6587-9290-4fdc-c9d4-69c09b0fd1a5"
      },
      "execution_count": 4,
      "outputs": [
        {
          "output_type": "stream",
          "name": "stdout",
          "text": [
            "43.2\n"
          ]
        }
      ]
    },
    {
      "cell_type": "code",
      "source": [
        "fuente1=86 #por minuto\n",
        "fuente2=74 #por minuto\n",
        "fuente3=132 #por minuto\n",
        "total=(fuente1*60)+(fuente2*60)+(fuente3*60)\n",
        "print(total)"
      ],
      "metadata": {
        "colab": {
          "base_uri": "https://localhost:8080/"
        },
        "id": "L9p6W2OU54IX",
        "outputId": "ab2725f9-9d86-48a2-b642-90c62d1292d0"
      },
      "execution_count": null,
      "outputs": [
        {
          "output_type": "stream",
          "name": "stdout",
          "text": [
            "17520\n"
          ]
        }
      ]
    },
    {
      "cell_type": "code",
      "source": [
        "semana=301\n",
        "caja=7\n",
        "total=semana/caja\n",
        "print(total)"
      ],
      "metadata": {
        "colab": {
          "base_uri": "https://localhost:8080/"
        },
        "id": "SYx7b-UK6cgr",
        "outputId": "33895a51-a293-4e41-d615-83d520b90307"
      },
      "execution_count": null,
      "outputs": [
        {
          "output_type": "stream",
          "name": "stdout",
          "text": [
            "43.0\n"
          ]
        }
      ]
    },
    {
      "cell_type": "code",
      "source": [
        "barco=175\n",
        "submarino=56\n",
        "total=(barco*14)+(submarino*6)\n",
        "print(total)"
      ],
      "metadata": {
        "colab": {
          "base_uri": "https://localhost:8080/"
        },
        "id": "udymNgdP655i",
        "outputId": "05bbb961-5ac3-4dd8-ed5f-a505d7ea91dd"
      },
      "execution_count": null,
      "outputs": [
        {
          "output_type": "stream",
          "name": "stdout",
          "text": [
            "2786\n"
          ]
        }
      ]
    },
    {
      "cell_type": "code",
      "source": [
        "#una botiga de joguines te molt exit en dos dels seus productes: nines i pallasos. acostuma a fer vendes per correu i la empresa de loguistica els cobra pel de cada joguina, aixi doncs han de calcular els pes del pallasos i nines que sortiran a cada paquet a demanda. cada pallaso pesa 112grams cada nina pesa 75 grams leer numero de pallasos i nines venuts en la darrera comanda quant per i quantitat\n",
        "pallaso = 112\n",
        "muñeca = 75\n",
        "pallasos = int(input(\"cuantos pallasos: \"))\n",
        "muñecas = int(input(\"cuantas muñecas: \"))\n",
        "total = pallaso * pallasos + muñeca * muñecas\n",
        "print (str(total))\n",
        ""
      ],
      "metadata": {
        "id": "2Fe-_LCXrFYk",
        "colab": {
          "base_uri": "https://localhost:8080/"
        },
        "outputId": "b1819bf1-5dde-4a58-cfa7-89c6372db5a6"
      },
      "execution_count": 7,
      "outputs": [
        {
          "output_type": "stream",
          "name": "stdout",
          "text": [
            "Cuantos pallasos: 10\n",
            "cuantas muñecas: 4\n",
            "1420\n"
          ]
        }
      ]
    }
  ]
}